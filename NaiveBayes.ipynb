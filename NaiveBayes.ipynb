{
 "metadata": {
  "name": "",
  "signature": "sha256:7ed93b28cad250be0a6dd19eade112a1f838b99d56793318233d24ea7767fa67"
 },
 "nbformat": 3,
 "nbformat_minor": 0,
 "worksheets": [
  {
   "cells": [
    {
     "cell_type": "heading",
     "level": 1,
     "metadata": {},
     "source": [
      "Naive Bayes classifier"
     ]
    },
    {
     "cell_type": "heading",
     "level": 3,
     "metadata": {},
     "source": [
      "Chargement des donn\u00e9es"
     ]
    },
    {
     "cell_type": "code",
     "collapsed": false,
     "input": [
      "from sklearn.naive_bayes import GaussianNB, BernoulliNB, MultinomialNB\n",
      "from sklearn import metrics "
     ],
     "language": "python",
     "metadata": {},
     "outputs": [],
     "prompt_number": 1
    },
    {
     "cell_type": "code",
     "collapsed": false,
     "input": [
      "import pandas as pd\n",
      "import numpy as np\n",
      "import matplotlib.pyplot as plt\n",
      "%matplotlib inline\n",
      "\n",
      "def load_data(data=\"learn\"):\n",
      "    f = open(\"us_census_full/columns-fixed.txt\",\"r\")\n",
      "    colnames = [i.split(':')[0] for i in f.readlines()]\n",
      "    colnames = [i.replace(' ','_').replace('-','_').replace(\"'\",'') for i in colnames]\n",
      "    colnames += ['target']\n",
      "    df = pd.read_csv(\"us_census_full/census_income_{}.csv\".format(data), names=colnames)\n",
      "    dropped_features = ['instance_weight',\n",
      "                        'detailed_industry_recode','detailed_occupation_recode',\n",
      "                        'detailed_household_and_family_stat',\n",
      "                        'major_industry_code', 'major_occupation_code',\n",
      "                        'state_of_previous_residence',\n",
      "                        'country_of_birth_father','country_of_birth_mother',\n",
      "                        'country_of_birth_self', 'migration_code_change_in_msa',\n",
      "                        'migration_code_change_in_reg','migration_code_move_within_reg',\n",
      "                        'migration_prev_res_in_sunbelt']\n",
      "   \n",
      "    for f in dropped_features: del df[f]\n",
      "    \n",
      "    to_binary = [\"wage_per_hour\", \"capital_gains\", \"capital_losses\",\"dividends_from_stocks\"]\n",
      "    for f in to_binary: df[f] = (df[f]!=0).astype(int)\n",
      "    df['weeks_worked_in_year'] = pd.cut(df.weeks_worked_in_year,\n",
      "                                        [-1, 0,51,52], labels=['0','1-51','52'])\n",
      "    # target = >50k = 1\n",
      "    df['target'] = (df['target'] == ' 50000+.').astype(int)\n",
      "    return df"
     ],
     "language": "python",
     "metadata": {},
     "outputs": [],
     "prompt_number": 2
    },
    {
     "cell_type": "code",
     "collapsed": false,
     "input": [
      "data = load_data(\"learn\")\n",
      "feature_categorical = [i for i in data.columns if i not in ['age','target']]"
     ],
     "language": "python",
     "metadata": {},
     "outputs": [],
     "prompt_number": 3
    },
    {
     "cell_type": "code",
     "collapsed": false,
     "input": [
      "QM = data[feature_categorical].apply(lambda x: (x==\" ?\").mean(), axis=0)\n",
      "QM = (100*QM).round()\n",
      "NIU = data[feature_categorical].apply(lambda x: (x==\" Not in universe\").mean(), axis=0)\n",
      "NIU = (100*NIU).round()\n",
      "df_category = pd.DataFrame( {'?' : QM, 'Not in universe' : NIU, 'categories' : 0} )\n",
      "for f in feature_categorical: df_category.ix[f,'categories'] = data[f].unique().size"
     ],
     "language": "python",
     "metadata": {},
     "outputs": [],
     "prompt_number": 4
    },
    {
     "cell_type": "code",
     "collapsed": false,
     "input": [
      "df_category"
     ],
     "language": "python",
     "metadata": {},
     "outputs": [
      {
       "html": [
        "<div style=\"max-height:1000px;max-width:1500px;overflow:auto;\">\n",
        "<table border=\"1\" class=\"dataframe\">\n",
        "  <thead>\n",
        "    <tr style=\"text-align: right;\">\n",
        "      <th></th>\n",
        "      <th>?</th>\n",
        "      <th>Not in universe</th>\n",
        "      <th>categories</th>\n",
        "    </tr>\n",
        "  </thead>\n",
        "  <tbody>\n",
        "    <tr>\n",
        "      <th>class_of_worker</th>\n",
        "      <td> 0</td>\n",
        "      <td> 50</td>\n",
        "      <td>  9</td>\n",
        "    </tr>\n",
        "    <tr>\n",
        "      <th>education</th>\n",
        "      <td> 0</td>\n",
        "      <td>  0</td>\n",
        "      <td> 17</td>\n",
        "    </tr>\n",
        "    <tr>\n",
        "      <th>wage_per_hour</th>\n",
        "      <td> 0</td>\n",
        "      <td>  0</td>\n",
        "      <td>  2</td>\n",
        "    </tr>\n",
        "    <tr>\n",
        "      <th>enroll_in_edu_inst_last_wk</th>\n",
        "      <td> 0</td>\n",
        "      <td> 94</td>\n",
        "      <td>  3</td>\n",
        "    </tr>\n",
        "    <tr>\n",
        "      <th>marital_stat</th>\n",
        "      <td> 0</td>\n",
        "      <td>  0</td>\n",
        "      <td>  7</td>\n",
        "    </tr>\n",
        "    <tr>\n",
        "      <th>race</th>\n",
        "      <td> 0</td>\n",
        "      <td>  0</td>\n",
        "      <td>  5</td>\n",
        "    </tr>\n",
        "    <tr>\n",
        "      <th>hispanic_origin</th>\n",
        "      <td> 0</td>\n",
        "      <td>  0</td>\n",
        "      <td> 10</td>\n",
        "    </tr>\n",
        "    <tr>\n",
        "      <th>sex</th>\n",
        "      <td> 0</td>\n",
        "      <td>  0</td>\n",
        "      <td>  2</td>\n",
        "    </tr>\n",
        "    <tr>\n",
        "      <th>member_of_a_labor_union</th>\n",
        "      <td> 0</td>\n",
        "      <td> 90</td>\n",
        "      <td>  3</td>\n",
        "    </tr>\n",
        "    <tr>\n",
        "      <th>reason_for_unemployment</th>\n",
        "      <td> 0</td>\n",
        "      <td> 97</td>\n",
        "      <td>  6</td>\n",
        "    </tr>\n",
        "    <tr>\n",
        "      <th>full_or_part_time_employment_stat</th>\n",
        "      <td> 0</td>\n",
        "      <td>  0</td>\n",
        "      <td>  8</td>\n",
        "    </tr>\n",
        "    <tr>\n",
        "      <th>capital_gains</th>\n",
        "      <td> 0</td>\n",
        "      <td>  0</td>\n",
        "      <td>  2</td>\n",
        "    </tr>\n",
        "    <tr>\n",
        "      <th>capital_losses</th>\n",
        "      <td> 0</td>\n",
        "      <td>  0</td>\n",
        "      <td>  2</td>\n",
        "    </tr>\n",
        "    <tr>\n",
        "      <th>dividends_from_stocks</th>\n",
        "      <td> 0</td>\n",
        "      <td>  0</td>\n",
        "      <td>  2</td>\n",
        "    </tr>\n",
        "    <tr>\n",
        "      <th>tax_filer_stat</th>\n",
        "      <td> 0</td>\n",
        "      <td>  0</td>\n",
        "      <td>  6</td>\n",
        "    </tr>\n",
        "    <tr>\n",
        "      <th>region_of_previous_residence</th>\n",
        "      <td> 0</td>\n",
        "      <td> 92</td>\n",
        "      <td>  6</td>\n",
        "    </tr>\n",
        "    <tr>\n",
        "      <th>detailed_household_summary_in_household</th>\n",
        "      <td> 0</td>\n",
        "      <td>  0</td>\n",
        "      <td>  8</td>\n",
        "    </tr>\n",
        "    <tr>\n",
        "      <th>live_in_this_house_1_year_ago</th>\n",
        "      <td> 0</td>\n",
        "      <td>  0</td>\n",
        "      <td>  3</td>\n",
        "    </tr>\n",
        "    <tr>\n",
        "      <th>num_persons_worked_for_employer</th>\n",
        "      <td> 0</td>\n",
        "      <td>  0</td>\n",
        "      <td>  7</td>\n",
        "    </tr>\n",
        "    <tr>\n",
        "      <th>family_members_under_18</th>\n",
        "      <td> 0</td>\n",
        "      <td> 72</td>\n",
        "      <td>  5</td>\n",
        "    </tr>\n",
        "    <tr>\n",
        "      <th>citizenship</th>\n",
        "      <td> 0</td>\n",
        "      <td>  0</td>\n",
        "      <td>  5</td>\n",
        "    </tr>\n",
        "    <tr>\n",
        "      <th>own_business_or_self_employed</th>\n",
        "      <td> 0</td>\n",
        "      <td>  0</td>\n",
        "      <td>  3</td>\n",
        "    </tr>\n",
        "    <tr>\n",
        "      <th>fill_inc_questionnaire_for_veterans_admin</th>\n",
        "      <td> 0</td>\n",
        "      <td> 99</td>\n",
        "      <td>  3</td>\n",
        "    </tr>\n",
        "    <tr>\n",
        "      <th>veterans_benefits</th>\n",
        "      <td> 0</td>\n",
        "      <td>  0</td>\n",
        "      <td>  3</td>\n",
        "    </tr>\n",
        "    <tr>\n",
        "      <th>weeks_worked_in_year</th>\n",
        "      <td> 0</td>\n",
        "      <td>  0</td>\n",
        "      <td>  3</td>\n",
        "    </tr>\n",
        "    <tr>\n",
        "      <th>year</th>\n",
        "      <td> 0</td>\n",
        "      <td>  0</td>\n",
        "      <td>  2</td>\n",
        "    </tr>\n",
        "  </tbody>\n",
        "</table>\n",
        "</div>"
       ],
       "metadata": {},
       "output_type": "pyout",
       "prompt_number": 5,
       "text": [
        "                                           ?  Not in universe  categories\n",
        "class_of_worker                            0               50           9\n",
        "education                                  0                0          17\n",
        "wage_per_hour                              0                0           2\n",
        "enroll_in_edu_inst_last_wk                 0               94           3\n",
        "marital_stat                               0                0           7\n",
        "race                                       0                0           5\n",
        "hispanic_origin                            0                0          10\n",
        "sex                                        0                0           2\n",
        "member_of_a_labor_union                    0               90           3\n",
        "reason_for_unemployment                    0               97           6\n",
        "full_or_part_time_employment_stat          0                0           8\n",
        "capital_gains                              0                0           2\n",
        "capital_losses                             0                0           2\n",
        "dividends_from_stocks                      0                0           2\n",
        "tax_filer_stat                             0                0           6\n",
        "region_of_previous_residence               0               92           6\n",
        "detailed_household_summary_in_household    0                0           8\n",
        "live_in_this_house_1_year_ago              0                0           3\n",
        "num_persons_worked_for_employer            0                0           7\n",
        "family_members_under_18                    0               72           5\n",
        "citizenship                                0                0           5\n",
        "own_business_or_self_employed              0                0           3\n",
        "fill_inc_questionnaire_for_veterans_admin  0               99           3\n",
        "veterans_benefits                          0                0           3\n",
        "weeks_worked_in_year                       0                0           3\n",
        "year                                       0                0           2"
       ]
      }
     ],
     "prompt_number": 5
    },
    {
     "cell_type": "heading",
     "level": 3,
     "metadata": {},
     "source": [
      "Train and cross-validation sets"
     ]
    },
    {
     "cell_type": "code",
     "collapsed": false,
     "input": [
      "# training (\"train\") and cross-validation (\"cross\") sets from data\n",
      "np.random.seed(0)\n",
      "\n",
      "sampling = np.random.permutation(data.shape[0])\n",
      "# en gros 20% dans le cross-validation set\n",
      "N = int(0.20*data.shape[0])\n",
      "cross = data.ix[sampling[0:N],:]\n",
      "train = data.ix[sampling[N:],:]\n",
      "print \"train\", train.shape\n",
      "print \"cross\", cross.shape\n",
      "print \"feq of + class:\"\n",
      "print \"train {0:.4f} cross {1:.4f}\".format(train.target.mean(),cross.target.mean())"
     ],
     "language": "python",
     "metadata": {},
     "outputs": [
      {
       "output_type": "stream",
       "stream": "stdout",
       "text": [
        "train (159619, 28)\n",
        "cross (39904, 28)\n",
        "feq of + class:\n",
        "train 0.0624 cross 0.0607\n"
       ]
      }
     ],
     "prompt_number": 6
    },
    {
     "cell_type": "heading",
     "level": 3,
     "metadata": {},
     "source": [
      "En utilisant seulement la feature \"education\""
     ]
    },
    {
     "cell_type": "code",
     "collapsed": false,
     "input": [
      "feature = \"education\"\n",
      "\n",
      "X_train = pd.get_dummies(train[feature]).values\n",
      "y_train = train.target.values\n",
      "\n",
      "X_cross = pd.get_dummies(cross[feature]).values\n",
      "y_cross = cross.target.values\n",
      "\n",
      "clf = BernoulliNB()\n",
      "clf.fit(X_train, y_train)\n",
      "y_pred = clf.predict(X_cross)\n",
      "y_prob = clf.predict_proba(X_cross)[:,1]\n",
      "\n",
      "print metrics.classification_report(y_cross, y_pred)"
     ],
     "language": "python",
     "metadata": {},
     "outputs": [
      {
       "output_type": "stream",
       "stream": "stdout",
       "text": [
        "             precision    recall  f1-score   support\n",
        "\n",
        "          0       0.95      0.99      0.97     37481\n",
        "          1       0.51      0.12      0.20      2423\n",
        "\n",
        "avg / total       0.92      0.94      0.92     39904\n",
        "\n"
       ]
      }
     ],
     "prompt_number": 7
    },
    {
     "cell_type": "markdown",
     "metadata": {},
     "source": [
      "Pas terrible, mais ok. Avec juste une feature, sans cross-validation, on obtient notamment\n",
      "- une pr\u00e9cision de 51% : 51% des samples pr\u00e9dits comme positifs sont effectivement positifs\n",
      "- un rappel de 12% : seulement 12% des samples positifs ont \u00e9t\u00e9 correctement pr\u00e9dits.\n",
      "- F1 score de 0.20\n",
      "\n",
      "Pour rappel, pour le pire des classifier, ie tirage au hasard de `y_pred` = 0 ou 1 avec une proba $\\theta$, on obtiendrait:\n",
      "- une pr\u00e9cision \u00e9gale \u00e0 la fr\u00e9quence $\\nu_p$ de la classe positive (ici 6%).\n",
      "- un rappel \u00e9gale \u00e0 $\\theta$, on peut avoir un rappel de 1 si on \"pr\u00e9dit\" `y_pred` = 1 pour tous les samples\n",
      "- F1 score \u00e9gale \u00e0 $2\\frac{\\theta \\nu_p}{\\theta+\\nu_p}$, inf\u00e9rieure \u00e0 0.12"
     ]
    },
    {
     "cell_type": "heading",
     "level": 3,
     "metadata": {},
     "source": [
      "Avec la feature \"age\""
     ]
    },
    {
     "cell_type": "code",
     "collapsed": false,
     "input": [
      "feature = \"age\"\n",
      "\n",
      "X_train = train[feature].values[:,np.newaxis]\n",
      "X_cross = cross[feature].values[:,np.newaxis]\n",
      "\n",
      "y_train = train.target.values\n",
      "y_cross = cross.target.values\n",
      "\n",
      "clf = GaussianNB()\n",
      "clf.fit(X_train, y_train)\n",
      "y_pred = clf.predict(X_cross)\n",
      "y_prob = clf.predict_proba(X_cross)[:,1]\n",
      "\n",
      "print metrics.classification_report(y_cross, y_pred)"
     ],
     "language": "python",
     "metadata": {},
     "outputs": [
      {
       "output_type": "stream",
       "stream": "stdout",
       "text": [
        "             precision    recall  f1-score   support\n",
        "\n",
        "          0       0.94      1.00      0.97     37481\n",
        "          1       0.00      0.00      0.00      2423\n",
        "\n",
        "avg / total       0.88      0.94      0.91     39904\n",
        "\n"
       ]
      },
      {
       "output_type": "stream",
       "stream": "stderr",
       "text": [
        "/Users/antoinebaker/anaconda/lib/python2.7/site-packages/sklearn/metrics/metrics.py:1771: UndefinedMetricWarning: Precision and F-score are ill-defined and being set to 0.0 in labels with no predicted samples.\n",
        "  'precision', 'predicted', average, warn_for)\n"
       ]
      }
     ],
     "prompt_number": 8
    },
    {
     "cell_type": "markdown",
     "metadata": {},
     "source": [
      "Pas bon! En fait ce classifier pr\u00e9dit tous les y \u00e0 0!"
     ]
    },
    {
     "cell_type": "code",
     "collapsed": false,
     "input": [
      "np.all(y_pred==0)"
     ],
     "language": "python",
     "metadata": {},
     "outputs": [
      {
       "metadata": {},
       "output_type": "pyout",
       "prompt_number": 9,
       "text": [
        "True"
       ]
      }
     ],
     "prompt_number": 9
    },
    {
     "cell_type": "markdown",
     "metadata": {},
     "source": [
      "Est ce que le probl\u00e8me vient de la distibution $P(x | y)$ (fitt\u00e9e par une gaussienne dans `GaussianNB`) ?"
     ]
    },
    {
     "cell_type": "code",
     "collapsed": false,
     "input": [
      "from scipy.stats import norm\n",
      "train.groupby('target')['age'].hist(normed=True,alpha=0.5)\n",
      "x = np.linspace(0,100,100)\n",
      "# prob of x knowing y (gaussian fitted to data during training in the GaussianNB algo) \n",
      "Px_1 = norm.pdf(x,loc=clf.theta_[1],scale=np.sqrt(clf.sigma_[1]))\n",
      "Px_0 = norm.pdf(x,loc=clf.theta_[0],scale=np.sqrt(clf.sigma_[0]))\n",
      "plt.plot(x,Px_1,label=\"P(x|y=1)\",c=\"g\")\n",
      "plt.plot(x,Px_0,label=\"P(x|y=0)\",c=\"b\");"
     ],
     "language": "python",
     "metadata": {},
     "outputs": [
      {
       "metadata": {},
       "output_type": "display_data",
       "png": "[encoded data removed]",
       "text": [
        "<matplotlib.figure.Figure at 0x1084342d0>"
       ]
      }
     ],
     "prompt_number": 10
    },
    {
     "cell_type": "markdown",
     "metadata": {},
     "source": [
      "Le fit est correct, m\u00eame si la distribution $P(x|y=0$) pourrait \u00eatre mieux fitt\u00e9e une autre loi.\n",
      "Peut \u00eatre une loi log-normale, \u00e7a vaut d'ailleurs \u00e9galement pour $P(x|y=1)$. On pourrait prendre `log(age)` comme feature t utiliser encore `GaussianNB.`"
     ]
    },
    {
     "cell_type": "markdown",
     "metadata": {},
     "source": [
      "Le probl\u00e8me ne vient pas du fit, peut \u00eatre de la proba pr\u00e9dite (eg bug dans `GaussianNB`) ?"
     ]
    },
    {
     "cell_type": "code",
     "collapsed": false,
     "input": [
      "nu_1, nu_0 = clf.class_prior_[1], clf.class_prior_[0]\n",
      "assert nu_1==train.target.mean()\n",
      "assert nu_1+nu_0==1\n",
      "a_prob_verif = np.log(Px_1/Px_0) + np.log(nu_1/nu_0)\n",
      "y_prob_verif = 1/(1+np.exp(-a_prob_verif))\n",
      "\n",
      "a_prob = clf.predict_log_proba(x[:,np.newaxis])\n",
      "a_prob = a_prob[:,1]-a_prob[:,0]\n",
      "y_prob = clf.predict_proba(x[:,np.newaxis])[:,1]\n",
      "\n",
      "fig, axs = plt.subplots(1,2,figsize=(6,4))\n",
      "ax = axs[0]\n",
      "ax.plot(x,y_prob,label=\"GaussianNB\")\n",
      "ax.plot(x,y_prob_verif,'.',label=\"verif\")\n",
      "ax.set_ylabel(\"posterior P(y=1|x)\")\n",
      "ax = axs[1]\n",
      "ax.plot(x,a_prob,label=\"GaussianNB\")\n",
      "ax.plot(x,a_prob_verif,'.',label=\"verif\")\n",
      "ax.set_ylabel(\"log odds\")\n",
      "ax.legend(loc=0);\n",
      "fig.tight_layout()"
     ],
     "language": "python",
     "metadata": {},
     "outputs": [
      {
       "metadata": {},
       "output_type": "display_data",
       "png": "[encoded data removed]",
       "text": [
        "<matplotlib.figure.Figure at 0x10d2610d0>"
       ]
      }
     ],
     "prompt_number": 11
    },
    {
     "cell_type": "markdown",
     "metadata": {},
     "source": [
      "Peut \u00eatre le threshold sur `y_prob` = $P(y=1|x)$ est trop important ?"
     ]
    },
    {
     "cell_type": "code",
     "collapsed": false,
     "input": [
      "threshold = np.linspace(0.01,0.99,100)\n",
      "y_prob = clf.predict_proba(X_cross)[:,1]\n",
      "y_preds = (y_prob >= threshold[:,np.newaxis]).astype(int)\n",
      "\n",
      "def func_recall(y): \n",
      "    return metrics.recall_score(y_cross, y)\n",
      "def func_precision(y): \n",
      "    return metrics.precision_score(y_cross, y)\n",
      "def func_f1_score(y): \n",
      "    return metrics.f1_score(y_cross, y)\n",
      "def func_accuracy(y): \n",
      "    return metrics.accuracy_score(y_cross, y)\n",
      "\n",
      "recall = np.apply_along_axis(func_recall, 1, y_preds);\n",
      "precision = np.apply_along_axis(func_precision, 1, y_preds);\n",
      "f1_score = np.apply_along_axis(func_f1_score, 1, y_preds);\n",
      "accuracy = np.apply_along_axis(func_accuracy, 1, y_preds);"
     ],
     "language": "python",
     "metadata": {},
     "outputs": [
      {
       "output_type": "stream",
       "stream": "stderr",
       "text": [
        "/Users/antoinebaker/anaconda/lib/python2.7/site-packages/sklearn/metrics/metrics.py:1771: UndefinedMetricWarning: Precision is ill-defined and being set to 0.0 due to no predicted samples.\n",
        "  'precision', 'predicted', average, warn_for)\n",
        "/Users/antoinebaker/anaconda/lib/python2.7/site-packages/sklearn/metrics/metrics.py:1771: UndefinedMetricWarning: F-score is ill-defined and being set to 0.0 due to no predicted samples.\n",
        "  'precision', 'predicted', average, warn_for)\n"
       ]
      }
     ],
     "prompt_number": 12
    },
    {
     "cell_type": "code",
     "collapsed": false,
     "input": [
      "theta_max = threshold[f1_score.argmax()]\n",
      "\n",
      "plt.plot(threshold,precision,label=\"precision\")\n",
      "plt.plot(threshold,recall,label=\"recall\")\n",
      "plt.plot(threshold,f1_score,label=\"f1_score\")\n",
      "plt.plot(threshold,accuracy,label=\"accuracy\")\n",
      "plt.xlabel(\"threshold\")\n",
      "plt.legend(loc=\"best\")\n",
      "plt.xlim(0,0.3)\n",
      "plt.axvline(theta_max,c='k')\n",
      "\n",
      "y_pred = (y_prob>theta_max).astype(int)\n",
      "print metrics.classification_report(y_cross, y_pred)"
     ],
     "language": "python",
     "metadata": {},
     "outputs": [
      {
       "output_type": "stream",
       "stream": "stdout",
       "text": [
        "             precision    recall  f1-score   support\n",
        "\n",
        "          0       0.97      0.72      0.83     37481\n",
        "          1       0.14      0.68      0.23      2423\n",
        "\n",
        "avg / total       0.92      0.72      0.79     39904\n",
        "\n"
       ]
      },
      {
       "metadata": {},
       "output_type": "display_data",
       "png": "[encoded data removed]",
       "text": [
        "<matplotlib.figure.Figure at 0x10d24cc50>"
       ]
      }
     ],
     "prompt_number": 13
    },
    {
     "cell_type": "markdown",
     "metadata": {},
     "source": [
      "Bien meilleur ! C'\u00e9tait donc bien le threshold (et non la proba $P(y|x)$) qui \u00e9tait le probl\u00e8me."
     ]
    },
    {
     "cell_type": "heading",
     "level": 3,
     "metadata": {},
     "source": [
      "En utilisant toutes les features"
     ]
    },
    {
     "cell_type": "markdown",
     "metadata": {},
     "source": [
      "Dans le mod\u00e8le Naives Bayes, les features $x_f$ sont conditionellement ind\u00e9pendentes conaissant la target $y$ : \n",
      "$$P(x|y,\\mu) = \\prod_{f=1}^{F} P(x_f|y,\\mu_f)$$.\n",
      "\n",
      "Le \"predictive posterior\" pour $y$ :\n",
      "$$P(y |x, \\mu) = \\frac{P(y| \\mu)}{P(x|y, \\mu)} \\prod_{f=1}^{F} P(x_f|y,\\mu_f)$$\n",
      "\n",
      "Ce qui s'\u00e9crit ausssi, en utilisant les log odds :\n",
      "$$a = \\ln \\frac{P(y=1 |x, \\mu)}{P(y=0 |x, \\mu)} = \\ln \\frac{P(y=1 | \\mu_y)}{P(y=0 | \\mu_y)}+ \\sum_{f=1}^{F} \\ln \\frac{P(x_f | y=1, \\mu_f)}{P(x_f | y=0, \\mu_f)}$$ \n",
      "\n",
      "Les param. $\\mu$ sont estim\u00e9s par maximum likelihood, et la \"predictive posterior probablity\" $P(y | x,\\mu)$ par la formule ci dessus.\n",
      "\n",
      "Il reste toujours \u00e0 d\u00e9terminer le threshold $\\theta$:\n",
      "- predict $y=1$ if $P(y | x,\\mu) \\geq \\theta$\n",
      "- predict $y=0$ if $P(y | x,\\mu)  < \\theta$\n",
      "\n",
      "On veut choisir $\\theta$ de mani\u00e8re \u00e0 avoir le meilleur tradeoff entre precision et recall, par exemple en maximisant le f1 score."
     ]
    },
    {
     "cell_type": "code",
     "collapsed": false,
     "input": [
      "def get_dummy_df(df):\n",
      "    for i, f in enumerate(feature_categorical): \n",
      "        dummy = pd.get_dummies(df[f]).add_prefix('{}: '.format(i))\n",
      "        assert dummy.shape[1] == df_category.categories[f]\n",
      "        dummy_df = dummy if i==0 else pd.concat([dummy_df, dummy], axis=1)\n",
      "    return dummy_df"
     ],
     "language": "python",
     "metadata": {},
     "outputs": [],
     "prompt_number": 14
    },
    {
     "cell_type": "code",
     "collapsed": false,
     "input": [
      "# processing data (dummy variables)\n",
      "y_train = train.target.values\n",
      "X_cat_train = get_dummy_df(train).values\n",
      "X_age_train = train['age'].values[:,np.newaxis] # required in sklearn\n",
      "\n",
      "y_cross = cross.target.values\n",
      "X_cat_cross = get_dummy_df(cross).values\n",
      "X_age_cross = cross['age'].values"
     ],
     "language": "python",
     "metadata": {},
     "outputs": [],
     "prompt_number": 15
    },
    {
     "cell_type": "code",
     "collapsed": false,
     "input": [
      "print \"train\", X_age_train.shape, X_cat_train.shape, y_train.shape\n",
      "print \"cross\", X_age_cross.shape, X_cat_cross.shape, y_cross.shape"
     ],
     "language": "python",
     "metadata": {},
     "outputs": [
      {
       "output_type": "stream",
       "stream": "stdout",
       "text": [
        "train (159619, 1) (159619, 132) (159619,)\n",
        "cross (39904,) (39904, 132) (39904,)\n"
       ]
      }
     ],
     "prompt_number": 16
    },
    {
     "cell_type": "code",
     "collapsed": false,
     "input": [
      "#training\n",
      "BNB_clf = BernoulliNB().fit(X_cat_train,y_train)\n",
      "GNB_clf = GaussianNB().fit(X_age_train,y_train)\n",
      "\n",
      "#parameters\n",
      "nu_1, nu_0 = GNB_clf.class_prior_[1], GNB_clf.class_prior_[0]\n",
      "sigma_1, sigma_0 = GNB_clf.sigma_[1], GNB_clf.sigma_[0]\n",
      "theta_1, theta_0 = GNB_clf.theta_[1], GNB_clf.theta_[0]\n",
      "log_mu = BNB_clf.feature_log_prob_.T[:,1]-BNB_clf.feature_log_prob_.T[:,0]\n",
      "\n",
      "# prediction\n",
      "def predict_proba(X_age,X_cat):\n",
      "    log_odds = ( np.log(nu_1/nu_0)\n",
      "                + (0.5/sigma_0)*(X_age-theta_0)**2 \n",
      "                + 0.5*np.log(sigma_0)\n",
      "                - (0.5/sigma_1)*(X_age-theta_1)**2\n",
      "                - 0.5*np.log(sigma_1)\n",
      "                + np.dot(X_cat,log_mu) )\n",
      "    y_prob = 1/(1+np.exp(-log_odds))\n",
      "    return y_prob"
     ],
     "language": "python",
     "metadata": {},
     "outputs": [],
     "prompt_number": 17
    },
    {
     "cell_type": "code",
     "collapsed": false,
     "input": [
      "# proba prediction on cross-validation set\n",
      "y_prob = predict_proba(X_age_cross,X_cat_cross)"
     ],
     "language": "python",
     "metadata": {},
     "outputs": [],
     "prompt_number": 18
    },
    {
     "cell_type": "code",
     "collapsed": false,
     "input": [
      "# threshold : on maximize le f1 score sur le cross validation set\n",
      "threshold = np.linspace(0.01,0.99,100)\n",
      "y_preds = (y_prob >= threshold[:,np.newaxis]).astype(int)\n",
      "\n",
      "def func_recall(y): \n",
      "    return metrics.recall_score(y_cross, y)\n",
      "def func_precision(y): \n",
      "    return metrics.precision_score(y_cross, y)\n",
      "def func_f1_score(y): \n",
      "    return metrics.f1_score(y_cross, y)\n",
      "def func_accuracy(y): \n",
      "    return metrics.accuracy_score(y_cross, y)\n",
      "\n",
      "recall = np.apply_along_axis(func_recall, 1, y_preds);\n",
      "precision = np.apply_along_axis(func_precision, 1, y_preds);\n",
      "f1_score = np.apply_along_axis(func_f1_score, 1, y_preds);\n",
      "accuracy = np.apply_along_axis(func_accuracy, 1, y_preds);\n",
      "theta_max = threshold[f1_score.argmax()]"
     ],
     "language": "python",
     "metadata": {},
     "outputs": [],
     "prompt_number": 19
    },
    {
     "cell_type": "code",
     "collapsed": false,
     "input": [
      "# precision vs accuracy tradeoff, f1 maximiz\u00e9\n",
      "plt.plot(threshold,precision,label=\"precision\")\n",
      "plt.plot(threshold,recall,label=\"recall\")\n",
      "plt.plot(threshold,f1_score,label=\"f1_score\")\n",
      "plt.plot(threshold,accuracy,label=\"accuracy\")\n",
      "plt.xlabel(\"threshold\")\n",
      "plt.legend(loc=\"best\")\n",
      "plt.axvline(theta_max,c='k')\n",
      "\n",
      "y_pred = (y_prob>theta_max).astype(int)\n",
      "print metrics.classification_report(y_cross, y_pred)"
     ],
     "language": "python",
     "metadata": {},
     "outputs": [
      {
       "output_type": "stream",
       "stream": "stdout",
       "text": [
        "             precision    recall  f1-score   support\n",
        "\n",
        "          0       0.97      0.94      0.96     37481\n",
        "          1       0.42      0.61      0.49      2423\n",
        "\n",
        "avg / total       0.94      0.92      0.93     39904\n",
        "\n"
       ]
      },
      {
       "metadata": {},
       "output_type": "display_data",
       "png": "[encoded data removed]",
       "text": [
        "<matplotlib.figure.Figure at 0x10a9a6190>"
       ]
      }
     ],
     "prompt_number": 20
    },
    {
     "cell_type": "heading",
     "level": 3,
     "metadata": {},
     "source": [
      "Score final sur le test set"
     ]
    },
    {
     "cell_type": "code",
     "collapsed": false,
     "input": [
      "# processing test data (dummy variables)\n",
      "test = load_data(\"test\")\n",
      "y_test = test.target.values\n",
      "X_cat_test = get_dummy_df(test).values\n",
      "X_age_test = test['age'].values"
     ],
     "language": "python",
     "metadata": {},
     "outputs": [],
     "prompt_number": 21
    },
    {
     "cell_type": "code",
     "collapsed": false,
     "input": [
      "# proba prediction sur le test set\n",
      "y_prob = predict_proba(X_age_test,X_cat_test)\n",
      "# predicted class\n",
      "y_pred = (y_prob>theta_max).astype(int)\n",
      "# score\n",
      "print metrics.classification_report(y_test, y_pred)"
     ],
     "language": "python",
     "metadata": {},
     "outputs": [
      {
       "output_type": "stream",
       "stream": "stdout",
       "text": [
        "             precision    recall  f1-score   support\n",
        "\n",
        "          0       0.97      0.95      0.96     93576\n",
        "          1       0.42      0.60      0.50      6186\n",
        "\n",
        "avg / total       0.94      0.92      0.93     99762\n",
        "\n"
       ]
      }
     ],
     "prompt_number": 22
    },
    {
     "cell_type": "heading",
     "level": 3,
     "metadata": {},
     "source": [
      "Importance des features"
     ]
    },
    {
     "cell_type": "markdown",
     "metadata": {},
     "source": [
      "Dans NaiveBayes chaque feature contribue de mani\u00e8re ind\u00e9pendente \u00e0 la probabilit\u00e9 de la target. En terme des logg odds, le log odds de la target \u00e0 posteriori (voir formule ci dessus) est simplement la somme des logg odds ce chaque feature plus le log odds a priori. \n",
      "Chaque feature contribue de mani\u00e8re additive : \n",
      "- quand log odds de la feature est < 0, cela diminue la probabilit\u00e9 de la target\n",
      "- quand log odds de la feature est > 0, cela augmente la probabilit\u00e9 de la target"
     ]
    },
    {
     "cell_type": "code",
     "collapsed": false,
     "input": [
      "dummy = get_dummy_df(test)"
     ],
     "language": "python",
     "metadata": {},
     "outputs": [],
     "prompt_number": 23
    },
    {
     "cell_type": "code",
     "collapsed": false,
     "input": [
      "df = pd.DataFrame({'name':dummy.columns,'log_mu':log_mu})\n",
      "df['feature_number'] = [int(x.split(':')[0]) for x in df.name]\n",
      "df['category'] =  [x.split(':')[1] for x in df.name]\n",
      "df['feature'] = [df_category.index[i] for i in df.feature_number]"
     ],
     "language": "python",
     "metadata": {},
     "outputs": [],
     "prompt_number": 24
    },
    {
     "cell_type": "heading",
     "level": 3,
     "metadata": {},
     "source": [
      "Les 10 features qui diminuent le plus la probabilit\u00e9 d'appartenir \u00e0 la classe \"riche\""
     ]
    },
    {
     "cell_type": "markdown",
     "metadata": {},
     "source": [
      "On voit que c'est surtout le fait d'\u00eatre un enfant (qui est pr\u00e9sent dans diff\u00e9rentes features) qui diminue cette proba."
     ]
    },
    {
     "cell_type": "code",
     "collapsed": false,
     "input": [
      "df.sort_index(ascending=True,by='log_mu')[['feature','category','log_mu']].head(10)"
     ],
     "language": "python",
     "metadata": {},
     "outputs": [
      {
       "html": [
        "<div style=\"max-height:1000px;max-width:1500px;overflow:auto;\">\n",
        "<table border=\"1\" class=\"dataframe\">\n",
        "  <thead>\n",
        "    <tr style=\"text-align: right;\">\n",
        "      <th></th>\n",
        "      <th>feature</th>\n",
        "      <th>category</th>\n",
        "      <th>log_mu</th>\n",
        "    </tr>\n",
        "  </thead>\n",
        "  <tbody>\n",
        "    <tr>\n",
        "      <th>19 </th>\n",
        "      <td>                               education</td>\n",
        "      <td>                       Children</td>\n",
        "      <td>-7.833479</td>\n",
        "    </tr>\n",
        "    <tr>\n",
        "      <th>124</th>\n",
        "      <td>                       veterans_benefits</td>\n",
        "      <td>                              0</td>\n",
        "      <td>-7.833189</td>\n",
        "    </tr>\n",
        "    <tr>\n",
        "      <th>92 </th>\n",
        "      <td> detailed_household_summary_in_household</td>\n",
        "      <td>   Child under 18 never married</td>\n",
        "      <td>-6.796661</td>\n",
        "    </tr>\n",
        "    <tr>\n",
        "      <th>108</th>\n",
        "      <td>                 family_members_under_18</td>\n",
        "      <td>           Both parents present</td>\n",
        "      <td>-6.540340</td>\n",
        "    </tr>\n",
        "    <tr>\n",
        "      <th>110</th>\n",
        "      <td>                 family_members_under_18</td>\n",
        "      <td>            Mother only present</td>\n",
        "      <td>-6.521225</td>\n",
        "    </tr>\n",
        "    <tr>\n",
        "      <th>82 </th>\n",
        "      <td>                          tax_filer_stat</td>\n",
        "      <td>                       Nonfiler</td>\n",
        "      <td>-4.890650</td>\n",
        "    </tr>\n",
        "    <tr>\n",
        "      <th>109</th>\n",
        "      <td>                 family_members_under_18</td>\n",
        "      <td>            Father only present</td>\n",
        "      <td>-4.602184</td>\n",
        "    </tr>\n",
        "    <tr>\n",
        "      <th>111</th>\n",
        "      <td>                 family_members_under_18</td>\n",
        "      <td>         Neither parent present</td>\n",
        "      <td>-4.491469</td>\n",
        "    </tr>\n",
        "    <tr>\n",
        "      <th>29 </th>\n",
        "      <td>              enroll_in_edu_inst_last_wk</td>\n",
        "      <td>                    High school</td>\n",
        "      <td>-4.298622</td>\n",
        "    </tr>\n",
        "    <tr>\n",
        "      <th>22 </th>\n",
        "      <td>                               education</td>\n",
        "      <td>            Less than 1st grade</td>\n",
        "      <td>-3.099941</td>\n",
        "    </tr>\n",
        "  </tbody>\n",
        "</table>\n",
        "</div>"
       ],
       "metadata": {},
       "output_type": "pyout",
       "prompt_number": 25,
       "text": [
        "                                     feature                        category  \\\n",
        "19                                 education                        Children   \n",
        "124                        veterans_benefits                               0   \n",
        "92   detailed_household_summary_in_household    Child under 18 never married   \n",
        "108                  family_members_under_18            Both parents present   \n",
        "110                  family_members_under_18             Mother only present   \n",
        "82                            tax_filer_stat                        Nonfiler   \n",
        "109                  family_members_under_18             Father only present   \n",
        "111                  family_members_under_18          Neither parent present   \n",
        "29                enroll_in_edu_inst_last_wk                     High school   \n",
        "22                                 education             Less than 1st grade   \n",
        "\n",
        "       log_mu  \n",
        "19  -7.833479  \n",
        "124 -7.833189  \n",
        "92  -6.796661  \n",
        "108 -6.540340  \n",
        "110 -6.521225  \n",
        "82  -4.890650  \n",
        "109 -4.602184  \n",
        "111 -4.491469  \n",
        "29  -4.298622  \n",
        "22  -3.099941  "
       ]
      }
     ],
     "prompt_number": 25
    },
    {
     "cell_type": "heading",
     "level": 3,
     "metadata": {},
     "source": [
      "Les 10 features qui augmentent le plus la probabilit\u00e9 d'appartenir \u00e0 la classe \"riche\""
     ]
    },
    {
     "cell_type": "markdown",
     "metadata": {},
     "source": [
      "On retrouve ce qu'on avait observ\u00e9 dans la partie exploratoire `check_data`: les haut dipl\u00f4mes, le fait de jouer en bourse, augmentent cette proba."
     ]
    },
    {
     "cell_type": "code",
     "collapsed": false,
     "input": [
      "df.sort_index(ascending=False,by='log_mu')[['feature','category','log_mu']].head(10)"
     ],
     "language": "python",
     "metadata": {},
     "outputs": [
      {
       "html": [
        "<div style=\"max-height:1000px;max-width:1500px;overflow:auto;\">\n",
        "<table border=\"1\" class=\"dataframe\">\n",
        "  <thead>\n",
        "    <tr style=\"text-align: right;\">\n",
        "      <th></th>\n",
        "      <th>feature</th>\n",
        "      <th>category</th>\n",
        "      <th>log_mu</th>\n",
        "    </tr>\n",
        "  </thead>\n",
        "  <tbody>\n",
        "    <tr>\n",
        "      <th>24 </th>\n",
        "      <td>                     education</td>\n",
        "      <td>   Prof school degree (MD DDS DVM LLB JD)</td>\n",
        "      <td> 2.877569</td>\n",
        "    </tr>\n",
        "    <tr>\n",
        "      <th>20 </th>\n",
        "      <td>                     education</td>\n",
        "      <td>                Doctorate degree(PhD EdD)</td>\n",
        "      <td> 2.832304</td>\n",
        "    </tr>\n",
        "    <tr>\n",
        "      <th>5  </th>\n",
        "      <td>               class_of_worker</td>\n",
        "      <td>               Self-employed-incorporated</td>\n",
        "      <td> 2.085153</td>\n",
        "    </tr>\n",
        "    <tr>\n",
        "      <th>73 </th>\n",
        "      <td>                 capital_gains</td>\n",
        "      <td>                                        1</td>\n",
        "      <td> 2.001777</td>\n",
        "    </tr>\n",
        "    <tr>\n",
        "      <th>23 </th>\n",
        "      <td>                     education</td>\n",
        "      <td>   Masters degree(MA MS MEng MEd MSW MBA)</td>\n",
        "      <td> 1.925239</td>\n",
        "    </tr>\n",
        "    <tr>\n",
        "      <th>75 </th>\n",
        "      <td>                capital_losses</td>\n",
        "      <td>                                        1</td>\n",
        "      <td> 1.861018</td>\n",
        "    </tr>\n",
        "    <tr>\n",
        "      <th>77 </th>\n",
        "      <td>         dividends_from_stocks</td>\n",
        "      <td>                                        1</td>\n",
        "      <td> 1.614871</td>\n",
        "    </tr>\n",
        "    <tr>\n",
        "      <th>119</th>\n",
        "      <td> own_business_or_self_employed</td>\n",
        "      <td>                                        1</td>\n",
        "      <td> 1.474846</td>\n",
        "    </tr>\n",
        "    <tr>\n",
        "      <th>0  </th>\n",
        "      <td>               class_of_worker</td>\n",
        "      <td>                       Federal government</td>\n",
        "      <td> 1.348021</td>\n",
        "    </tr>\n",
        "    <tr>\n",
        "      <th>18 </th>\n",
        "      <td>                     education</td>\n",
        "      <td>               Bachelors degree(BA AB BS)</td>\n",
        "      <td> 1.317409</td>\n",
        "    </tr>\n",
        "  </tbody>\n",
        "</table>\n",
        "</div>"
       ],
       "metadata": {},
       "output_type": "pyout",
       "prompt_number": 26,
       "text": [
        "                           feature                                  category  \\\n",
        "24                       education    Prof school degree (MD DDS DVM LLB JD)   \n",
        "20                       education                 Doctorate degree(PhD EdD)   \n",
        "5                  class_of_worker                Self-employed-incorporated   \n",
        "73                   capital_gains                                         1   \n",
        "23                       education    Masters degree(MA MS MEng MEd MSW MBA)   \n",
        "75                  capital_losses                                         1   \n",
        "77           dividends_from_stocks                                         1   \n",
        "119  own_business_or_self_employed                                         1   \n",
        "0                  class_of_worker                        Federal government   \n",
        "18                       education                Bachelors degree(BA AB BS)   \n",
        "\n",
        "       log_mu  \n",
        "24   2.877569  \n",
        "20   2.832304  \n",
        "5    2.085153  \n",
        "73   2.001777  \n",
        "23   1.925239  \n",
        "75   1.861018  \n",
        "77   1.614871  \n",
        "119  1.474846  \n",
        "0    1.348021  \n",
        "18   1.317409  "
       ]
      }
     ],
     "prompt_number": 26
    }
   ],
   "metadata": {}
  }
 ]
}